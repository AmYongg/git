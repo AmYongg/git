{
  "nbformat": 4,
  "nbformat_minor": 0,
  "metadata": {
    "anaconda-cloud": {},
    "kernelspec": {
      "display_name": "Python 3",
      "language": "python",
      "name": "python3"
    },
    "language_info": {
      "codemirror_mode": {
        "name": "ipython",
        "version": 3
      },
      "file_extension": ".py",
      "mimetype": "text/x-python",
      "name": "python",
      "nbconvert_exporter": "python",
      "pygments_lexer": "ipython3",
      "version": "3.8.5"
    },
    "colab": {
      "name": "1-basic-cnn.ipynb",
      "provenance": [],
      "collapsed_sections": [],
      "include_colab_link": true
    },
    "accelerator": "GPU"
  },
  "cells": [
    {
      "cell_type": "markdown",
      "metadata": {
        "id": "view-in-github",
        "colab_type": "text"
      },
      "source": [
        "<a href=\"https://colab.research.google.com/github/AmYongg/git/blob/master/cnn_aug.ipynb\" target=\"_parent\"><img src=\"https://colab.research.google.com/assets/colab-badge.svg\" alt=\"Open In Colab\"/></a>"
      ]
    },
    {
      "cell_type": "code",
      "metadata": {
        "id": "FKRc2pTYE6WX"
      },
      "source": [
        "%matplotlib inline"
      ],
      "execution_count": 1,
      "outputs": []
    },
    {
      "cell_type": "code",
      "metadata": {
        "id": "GjFiphc8TFXz",
        "colab": {
          "base_uri": "https://localhost:8080/"
        },
        "outputId": "e116caae-21de-487e-edd8-853cd0aa2d48"
      },
      "source": [
        "!ls -l"
      ],
      "execution_count": 2,
      "outputs": [
        {
          "output_type": "stream",
          "name": "stdout",
          "text": [
            "total 360428\n",
            "-rw-r--r-- 1 root root 255876408 Oct 14 07:02 2-basic-cnn.h5\n",
            "drwx------ 5 root root      4096 Oct 14 05:26 drive\n",
            "drwxr-xr-x 1 root root      4096 Oct  8 13:45 sample_data\n",
            "drwxr-xr-x 2 root root     36864 Oct 14 05:30 test_data\n",
            "drwxr-xr-x 2 root root     94208 Oct 14 05:30 training_data\n",
            "-rw------- 1 root root 113023590 Oct 14 05:30 training_data.zip\n",
            "drwxr-xr-x 2 root root     36864 Oct 14 05:30 validation_data\n"
          ]
        }
      ]
    },
    {
      "cell_type": "code",
      "metadata": {
        "id": "wXQo4w5STPNE"
      },
      "source": [
        "# !cp ./drive/MyDrive/training_data.zip ."
      ],
      "execution_count": 3,
      "outputs": []
    },
    {
      "cell_type": "code",
      "metadata": {
        "id": "LuH5s-ueFqgO"
      },
      "source": [
        "# !unzip training_data.zip"
      ],
      "execution_count": 4,
      "outputs": []
    },
    {
      "cell_type": "code",
      "metadata": {
        "id": "LymXXKhtE6Wu"
      },
      "source": [
        "import glob\n",
        "import numpy as np\n",
        "import matplotlib.pyplot as plt\n",
        "from tensorflow.keras.preprocessing.image import ImageDataGenerator, load_img, img_to_array, array_to_img"
      ],
      "execution_count": 5,
      "outputs": []
    },
    {
      "cell_type": "code",
      "metadata": {
        "id": "5LXg_kDaE6Wx",
        "colab": {
          "base_uri": "https://localhost:8080/"
        },
        "outputId": "ec2ec8ac-c157-435e-9196-ad4abb66cf76"
      },
      "source": [
        "IMG_DIM = (150, 150)\n",
        "\n",
        "train_files = glob.glob('training_data/*')\n",
        "train_imgs = [img_to_array(load_img(img, target_size=IMG_DIM)) for img in train_files]\n",
        "train_imgs = np.array(train_imgs)\n",
        "train_labels = [fn.split('/')[1].split('.')[0].strip() for fn in train_files]\n",
        "\n",
        "validation_files = glob.glob('validation_data/*')\n",
        "validation_imgs = [img_to_array(load_img(img, target_size=IMG_DIM)) for img in validation_files]\n",
        "validation_imgs = np.array(validation_imgs)\n",
        "validation_labels = [fn.split('/')[1].split('.')[0].strip() for fn in validation_files]\n",
        "\n",
        "print('Train dataset shape:', train_imgs.shape, \n",
        "      '\\tValidation dataset shape:', validation_imgs.shape)"
      ],
      "execution_count": 6,
      "outputs": [
        {
          "output_type": "stream",
          "name": "stdout",
          "text": [
            "Train dataset shape: (3000, 150, 150, 3) \tValidation dataset shape: (1000, 150, 150, 3)\n"
          ]
        }
      ]
    },
    {
      "cell_type": "code",
      "metadata": {
        "id": "KpGYIMjWE6Wz"
      },
      "source": [
        "train_imgs_scaled = train_imgs.astype('float32')\n",
        "validation_imgs_scaled  = validation_imgs.astype('float32')\n",
        "train_imgs_scaled /= 255\n",
        "validation_imgs_scaled /= 255"
      ],
      "execution_count": 7,
      "outputs": []
    },
    {
      "cell_type": "code",
      "metadata": {
        "id": "rdBdehU4E6W0",
        "colab": {
          "base_uri": "https://localhost:8080/",
          "height": 184
        },
        "outputId": "6f46beaa-2f17-4e9c-a3c4-61129d95d6d8"
      },
      "source": [
        "print(train_imgs[1500].shape)\n",
        "array_to_img(train_imgs[1500])"
      ],
      "execution_count": 8,
      "outputs": [
        {
          "output_type": "stream",
          "name": "stdout",
          "text": [
            "(150, 150, 3)\n"
          ]
        },
        {
          "output_type": "execute_result",
          "data": {
            "image/png": "[encoded data removed]",
            "text/plain": [
              "<PIL.Image.Image image mode=RGB size=150x150 at 0x7FAA5EF889D0>"
            ]
          },
          "metadata": {},
          "execution_count": 8
        }
      ]
    },
    {
      "cell_type": "code",
      "metadata": {
        "id": "pYXSRvl2E6W1",
        "colab": {
          "base_uri": "https://localhost:8080/"
        },
        "outputId": "e3b86968-9809-46aa-b5ac-c1611db8a5fb"
      },
      "source": [
        "batch_size = 50\n",
        "num_classes = 2\n",
        "epochs = 100\n",
        "input_shape = (150, 150, 3)\n",
        "\n",
        "# encode text category labels\n",
        "from sklearn.preprocessing import LabelEncoder\n",
        "\n",
        "le = LabelEncoder()\n",
        "le.fit(train_labels)\n",
        "train_labels_enc = le.transform(train_labels)\n",
        "validation_labels_enc = le.transform(validation_labels)\n",
        "\n",
        "print(train_labels[1495:1505], train_labels_enc[1495:1505])"
      ],
      "execution_count": 9,
      "outputs": [
        {
          "output_type": "stream",
          "name": "stdout",
          "text": [
            "['dog', 'dog', 'dog', 'cat', 'cat', 'dog', 'dog', 'cat', 'dog', 'cat'] [1 1 1 0 0 1 1 0 1 0]\n"
          ]
        }
      ]
    },
    {
      "cell_type": "markdown",
      "metadata": {
        "id": "QUh1tX9CqJFH"
      },
      "source": [
        "# 이미지 증강"
      ]
    },
    {
      "cell_type": "code",
      "metadata": {
        "id": "a2B8pD6MqZ7v"
      },
      "source": [
        "from keras.preprocessing.image import ImageDataGenerator"
      ],
      "execution_count": 10,
      "outputs": []
    },
    {
      "cell_type": "code",
      "metadata": {
        "id": "TN3ynxAAu5nP"
      },
      "source": [
        "train_datagen = ImageDataGenerator(rescale=1./255, zoom_range=0.3, rotation_range=30,\n",
        "                                   width_shift_range=0.2, height_shift_range=0.2, shear_range=0.2, \n",
        "                                   horizontal_flip=True, fill_mode='nearest')"
      ],
      "execution_count": 11,
      "outputs": []
    },
    {
      "cell_type": "code",
      "metadata": {
        "id": "HSdMU7prz6o9"
      },
      "source": [
        "val_datagen = ImageDataGenerator(rescale=1./255)"
      ],
      "execution_count": 12,
      "outputs": []
    },
    {
      "cell_type": "code",
      "metadata": {
        "colab": {
          "base_uri": "https://localhost:8080/"
        },
        "id": "nzFpIPppsSQE",
        "outputId": "956a8172-12b5-4cf8-c68a-570acd52badd"
      },
      "source": [
        "type(train_datagen)"
      ],
      "execution_count": 13,
      "outputs": [
        {
          "output_type": "execute_result",
          "data": {
            "text/plain": [
              "keras.preprocessing.image.ImageDataGenerator"
            ]
          },
          "metadata": {},
          "execution_count": 13
        }
      ]
    },
    {
      "cell_type": "code",
      "metadata": {
        "id": "lOBvd-We0n81"
      },
      "source": [
        "train_generator = train_datagen.flow(train_imgs, train_labels_enc, batch_size=32)\n",
        "val_generator = val_datagen.flow(validation_imgs, validation_labels_enc, batch_size=16)\n",
        "\n",
        "input_shape = (150, 150, 3)"
      ],
      "execution_count": 14,
      "outputs": []
    },
    {
      "cell_type": "code",
      "metadata": {
        "id": "AhTKc-35E6W3"
      },
      "source": [
        "from tensorflow.keras.layers import Conv2D, MaxPooling2D, Flatten, Dense, Dropout\n",
        "from tensorflow.keras.models import Sequential\n",
        "from tensorflow.keras import optimizers"
      ],
      "execution_count": 15,
      "outputs": []
    },
    {
      "cell_type": "markdown",
      "metadata": {
        "id": "uu6j2m8IE6W4"
      },
      "source": [
        "### Model Case I "
      ]
    },
    {
      "cell_type": "code",
      "metadata": {
        "id": "AlAkT0L6E6W5"
      },
      "source": [
        "model = Sequential()\n",
        "\n",
        "model.add(Conv2D(16, kernel_size=(3, 3), activation='relu', padding=\"same\",\n",
        "                 input_shape=input_shape))\n",
        "model.add(Dropout(0.3))\n",
        "model.add(MaxPooling2D(pool_size=(2, 2)))\n",
        "\n",
        "model.add(Conv2D(64, kernel_size=(3, 3), activation='relu', padding=\"same\"))\n",
        "model.add(Dropout(0.3))\n",
        "model.add(MaxPooling2D(pool_size=(2, 2)))\n",
        "\n",
        "model.add(Conv2D(128, kernel_size=(3, 3), activation='relu', padding=\"same\"))\n",
        "model.add(Dropout(0.3))\n",
        "model.add(MaxPooling2D(pool_size=(2, 2)))\n",
        "\n",
        "model.add(Flatten())\n",
        "model.add(Dropout(0.3))\n",
        "model.add(Dense(512, activation='relu'))\n",
        "model.add(Dense(1, activation='sigmoid'))"
      ],
      "execution_count": 16,
      "outputs": []
    },
    {
      "cell_type": "code",
      "metadata": {
        "id": "JBalCPmdE6W6",
        "colab": {
          "base_uri": "https://localhost:8080/"
        },
        "outputId": "b5670c15-f21d-4d51-ac85-68082e88c73c"
      },
      "source": [
        "model.summary()"
      ],
      "execution_count": 17,
      "outputs": [
        {
          "output_type": "stream",
          "name": "stdout",
          "text": [
            "Model: \"sequential\"\n",
            "_________________________________________________________________\n",
            "Layer (type)                 Output Shape              Param #   \n",
            "=================================================================\n",
            "conv2d (Conv2D)              (None, 150, 150, 16)      448       \n",
            "_________________________________________________________________\n",
            "dropout (Dropout)            (None, 150, 150, 16)      0         \n",
            "_________________________________________________________________\n",
            "max_pooling2d (MaxPooling2D) (None, 75, 75, 16)        0         \n",
            "_________________________________________________________________\n",
            "conv2d_1 (Conv2D)            (None, 75, 75, 64)        9280      \n",
            "_________________________________________________________________\n",
            "dropout_1 (Dropout)          (None, 75, 75, 64)        0         \n",
            "_________________________________________________________________\n",
            "max_pooling2d_1 (MaxPooling2 (None, 37, 37, 64)        0         \n",
            "_________________________________________________________________\n",
            "conv2d_2 (Conv2D)            (None, 37, 37, 128)       73856     \n",
            "_________________________________________________________________\n",
            "dropout_2 (Dropout)          (None, 37, 37, 128)       0         \n",
            "_________________________________________________________________\n",
            "max_pooling2d_2 (MaxPooling2 (None, 18, 18, 128)       0         \n",
            "_________________________________________________________________\n",
            "flatten (Flatten)            (None, 41472)             0         \n",
            "_________________________________________________________________\n",
            "dropout_3 (Dropout)          (None, 41472)             0         \n",
            "_________________________________________________________________\n",
            "dense (Dense)                (None, 512)               21234176  \n",
            "_________________________________________________________________\n",
            "dense_1 (Dense)              (None, 1)                 513       \n",
            "=================================================================\n",
            "Total params: 21,318,273\n",
            "Trainable params: 21,318,273\n",
            "Non-trainable params: 0\n",
            "_________________________________________________________________\n"
          ]
        }
      ]
    },
    {
      "cell_type": "code",
      "metadata": {
        "id": "QoqCOiFpE6W6",
        "colab": {
          "base_uri": "https://localhost:8080/"
        },
        "outputId": "b878328a-fa19-434e-92da-2e2a6e09340e"
      },
      "source": [
        "model.compile(loss='binary_crossentropy',\n",
        "              optimizer= 'ADAM', # optimizers.RMSprop(lr=0.0001)\n",
        "              metrics=['accuracy'])\n",
        "\n",
        "model.summary()"
      ],
      "execution_count": 18,
      "outputs": [
        {
          "output_type": "stream",
          "name": "stdout",
          "text": [
            "Model: \"sequential\"\n",
            "_________________________________________________________________\n",
            "Layer (type)                 Output Shape              Param #   \n",
            "=================================================================\n",
            "conv2d (Conv2D)              (None, 150, 150, 16)      448       \n",
            "_________________________________________________________________\n",
            "dropout (Dropout)            (None, 150, 150, 16)      0         \n",
            "_________________________________________________________________\n",
            "max_pooling2d (MaxPooling2D) (None, 75, 75, 16)        0         \n",
            "_________________________________________________________________\n",
            "conv2d_1 (Conv2D)            (None, 75, 75, 64)        9280      \n",
            "_________________________________________________________________\n",
            "dropout_1 (Dropout)          (None, 75, 75, 64)        0         \n",
            "_________________________________________________________________\n",
            "max_pooling2d_1 (MaxPooling2 (None, 37, 37, 64)        0         \n",
            "_________________________________________________________________\n",
            "conv2d_2 (Conv2D)            (None, 37, 37, 128)       73856     \n",
            "_________________________________________________________________\n",
            "dropout_2 (Dropout)          (None, 37, 37, 128)       0         \n",
            "_________________________________________________________________\n",
            "max_pooling2d_2 (MaxPooling2 (None, 18, 18, 128)       0         \n",
            "_________________________________________________________________\n",
            "flatten (Flatten)            (None, 41472)             0         \n",
            "_________________________________________________________________\n",
            "dropout_3 (Dropout)          (None, 41472)             0         \n",
            "_________________________________________________________________\n",
            "dense (Dense)                (None, 512)               21234176  \n",
            "_________________________________________________________________\n",
            "dense_1 (Dense)              (None, 1)                 513       \n",
            "=================================================================\n",
            "Total params: 21,318,273\n",
            "Trainable params: 21,318,273\n",
            "Non-trainable params: 0\n",
            "_________________________________________________________________\n"
          ]
        }
      ]
    },
    {
      "cell_type": "code",
      "metadata": {
        "id": "PFagvQ3sE6W7",
        "colab": {
          "base_uri": "https://localhost:8080/"
        },
        "outputId": "3efce91b-a37d-42ad-9b4b-252767774062"
      },
      "source": [
        "history = model.fit_generator(train_generator,  epochs=epochs,\n",
        "                              validation_data=val_generator,  verbose=1)"
      ],
      "execution_count": 19,
      "outputs": [
        {
          "output_type": "stream",
          "name": "stderr",
          "text": [
            "/usr/local/lib/python3.7/dist-packages/keras/engine/training.py:1972: UserWarning: `Model.fit_generator` is deprecated and will be removed in a future version. Please use `Model.fit`, which supports generators.\n",
            "  warnings.warn('`Model.fit_generator` is deprecated and '\n"
          ]
        },
        {
          "output_type": "stream",
          "name": "stdout",
          "text": [
            "Epoch 1/100\n",
            "94/94 [==============================] - 23s 217ms/step - loss: 0.8539 - accuracy: 0.5123 - val_loss: 0.6926 - val_accuracy: 0.5300\n",
            "Epoch 2/100\n",
            "94/94 [==============================] - 21s 218ms/step - loss: 0.6891 - accuracy: 0.5573 - val_loss: 0.6825 - val_accuracy: 0.5690\n",
            "Epoch 3/100\n",
            "94/94 [==============================] - 20s 212ms/step - loss: 0.6832 - accuracy: 0.5623 - val_loss: 0.6806 - val_accuracy: 0.5610\n",
            "Epoch 4/100\n",
            "94/94 [==============================] - 20s 216ms/step - loss: 0.6749 - accuracy: 0.5897 - val_loss: 0.6771 - val_accuracy: 0.5700\n",
            "Epoch 5/100\n",
            "94/94 [==============================] - 20s 213ms/step - loss: 0.6678 - accuracy: 0.5930 - val_loss: 0.6609 - val_accuracy: 0.5860\n",
            "Epoch 6/100\n",
            "94/94 [==============================] - 20s 212ms/step - loss: 0.6726 - accuracy: 0.5987 - val_loss: 0.6755 - val_accuracy: 0.5690\n",
            "Epoch 7/100\n",
            "94/94 [==============================] - 21s 220ms/step - loss: 0.6698 - accuracy: 0.5917 - val_loss: 0.6625 - val_accuracy: 0.6120\n",
            "Epoch 8/100\n",
            "94/94 [==============================] - 20s 213ms/step - loss: 0.6538 - accuracy: 0.6197 - val_loss: 0.6404 - val_accuracy: 0.6370\n",
            "Epoch 9/100\n",
            "94/94 [==============================] - 21s 218ms/step - loss: 0.6448 - accuracy: 0.6190 - val_loss: 0.6150 - val_accuracy: 0.6770\n",
            "Epoch 10/100\n",
            "94/94 [==============================] - 20s 214ms/step - loss: 0.6325 - accuracy: 0.6387 - val_loss: 0.6161 - val_accuracy: 0.6730\n",
            "Epoch 11/100\n",
            "94/94 [==============================] - 20s 213ms/step - loss: 0.6177 - accuracy: 0.6590 - val_loss: 0.6193 - val_accuracy: 0.6670\n",
            "Epoch 12/100\n",
            "94/94 [==============================] - 20s 212ms/step - loss: 0.5975 - accuracy: 0.6843 - val_loss: 0.6017 - val_accuracy: 0.7050\n",
            "Epoch 13/100\n",
            "94/94 [==============================] - 20s 213ms/step - loss: 0.6110 - accuracy: 0.6680 - val_loss: 0.6311 - val_accuracy: 0.6840\n",
            "Epoch 14/100\n",
            "94/94 [==============================] - 21s 220ms/step - loss: 0.5988 - accuracy: 0.6777 - val_loss: 0.6304 - val_accuracy: 0.6370\n",
            "Epoch 15/100\n",
            "94/94 [==============================] - 20s 213ms/step - loss: 0.5860 - accuracy: 0.6830 - val_loss: 0.6093 - val_accuracy: 0.6770\n",
            "Epoch 16/100\n",
            "94/94 [==============================] - 20s 215ms/step - loss: 0.5798 - accuracy: 0.6917 - val_loss: 0.6123 - val_accuracy: 0.6660\n",
            "Epoch 17/100\n",
            "94/94 [==============================] - 20s 214ms/step - loss: 0.5667 - accuracy: 0.6997 - val_loss: 0.6017 - val_accuracy: 0.6630\n",
            "Epoch 18/100\n",
            "94/94 [==============================] - 20s 213ms/step - loss: 0.5715 - accuracy: 0.6980 - val_loss: 0.5742 - val_accuracy: 0.6930\n",
            "Epoch 19/100\n",
            "94/94 [==============================] - 21s 221ms/step - loss: 0.5464 - accuracy: 0.7117 - val_loss: 0.5552 - val_accuracy: 0.7200\n",
            "Epoch 20/100\n",
            "94/94 [==============================] - 20s 212ms/step - loss: 0.5603 - accuracy: 0.7080 - val_loss: 0.5803 - val_accuracy: 0.6880\n",
            "Epoch 21/100\n",
            "94/94 [==============================] - 20s 218ms/step - loss: 0.5522 - accuracy: 0.7057 - val_loss: 0.5593 - val_accuracy: 0.7110\n",
            "Epoch 22/100\n",
            "94/94 [==============================] - 20s 213ms/step - loss: 0.5488 - accuracy: 0.7177 - val_loss: 0.5683 - val_accuracy: 0.7090\n",
            "Epoch 23/100\n",
            "94/94 [==============================] - 20s 216ms/step - loss: 0.5445 - accuracy: 0.7190 - val_loss: 0.5691 - val_accuracy: 0.6950\n",
            "Epoch 24/100\n",
            "94/94 [==============================] - 20s 214ms/step - loss: 0.5311 - accuracy: 0.7307 - val_loss: 0.5612 - val_accuracy: 0.7090\n",
            "Epoch 25/100\n",
            "94/94 [==============================] - 20s 213ms/step - loss: 0.5435 - accuracy: 0.7233 - val_loss: 0.5619 - val_accuracy: 0.7420\n",
            "Epoch 26/100\n",
            "94/94 [==============================] - 21s 220ms/step - loss: 0.5325 - accuracy: 0.7207 - val_loss: 0.5435 - val_accuracy: 0.7390\n",
            "Epoch 27/100\n",
            "94/94 [==============================] - 20s 214ms/step - loss: 0.5340 - accuracy: 0.7287 - val_loss: 0.5481 - val_accuracy: 0.7140\n",
            "Epoch 28/100\n",
            "94/94 [==============================] - 20s 216ms/step - loss: 0.5330 - accuracy: 0.7220 - val_loss: 0.5659 - val_accuracy: 0.6970\n",
            "Epoch 29/100\n",
            "94/94 [==============================] - 20s 213ms/step - loss: 0.5204 - accuracy: 0.7373 - val_loss: 0.5483 - val_accuracy: 0.7460\n",
            "Epoch 30/100\n",
            "94/94 [==============================] - 20s 215ms/step - loss: 0.5185 - accuracy: 0.7433 - val_loss: 0.5305 - val_accuracy: 0.7470\n",
            "Epoch 31/100\n",
            "94/94 [==============================] - 20s 213ms/step - loss: 0.5128 - accuracy: 0.7320 - val_loss: 0.5171 - val_accuracy: 0.7660\n",
            "Epoch 32/100\n",
            "94/94 [==============================] - 20s 213ms/step - loss: 0.4976 - accuracy: 0.7547 - val_loss: 0.5443 - val_accuracy: 0.7310\n",
            "Epoch 33/100\n",
            "94/94 [==============================] - 21s 220ms/step - loss: 0.5069 - accuracy: 0.7507 - val_loss: 0.5296 - val_accuracy: 0.7610\n",
            "Epoch 34/100\n",
            "94/94 [==============================] - 20s 215ms/step - loss: 0.5108 - accuracy: 0.7453 - val_loss: 0.5219 - val_accuracy: 0.7580\n",
            "Epoch 35/100\n",
            "94/94 [==============================] - 20s 217ms/step - loss: 0.5057 - accuracy: 0.7463 - val_loss: 0.5438 - val_accuracy: 0.7240\n",
            "Epoch 36/100\n",
            "94/94 [==============================] - 19s 201ms/step - loss: 0.5070 - accuracy: 0.7463 - val_loss: 0.5267 - val_accuracy: 0.7390\n",
            "Epoch 37/100\n",
            "94/94 [==============================] - 18s 196ms/step - loss: 0.4974 - accuracy: 0.7507 - val_loss: 0.5217 - val_accuracy: 0.7590\n",
            "Epoch 38/100\n",
            "94/94 [==============================] - 20s 208ms/step - loss: 0.4934 - accuracy: 0.7583 - val_loss: 0.5067 - val_accuracy: 0.7640\n",
            "Epoch 39/100\n",
            "94/94 [==============================] - 19s 201ms/step - loss: 0.4803 - accuracy: 0.7687 - val_loss: 0.5028 - val_accuracy: 0.7600\n",
            "Epoch 40/100\n",
            "94/94 [==============================] - 19s 203ms/step - loss: 0.4830 - accuracy: 0.7573 - val_loss: 0.4959 - val_accuracy: 0.7740\n",
            "Epoch 41/100\n",
            "94/94 [==============================] - 19s 202ms/step - loss: 0.4833 - accuracy: 0.7563 - val_loss: 0.5040 - val_accuracy: 0.7800\n",
            "Epoch 42/100\n",
            "94/94 [==============================] - 19s 200ms/step - loss: 0.4781 - accuracy: 0.7703 - val_loss: 0.5143 - val_accuracy: 0.7460\n",
            "Epoch 43/100\n",
            "94/94 [==============================] - 19s 201ms/step - loss: 0.4741 - accuracy: 0.7620 - val_loss: 0.4976 - val_accuracy: 0.7700\n",
            "Epoch 44/100\n",
            "94/94 [==============================] - 18s 196ms/step - loss: 0.4779 - accuracy: 0.7703 - val_loss: 0.5102 - val_accuracy: 0.7610\n",
            "Epoch 45/100\n",
            "94/94 [==============================] - 18s 195ms/step - loss: 0.4870 - accuracy: 0.7623 - val_loss: 0.5034 - val_accuracy: 0.7610\n",
            "Epoch 46/100\n",
            "94/94 [==============================] - 18s 194ms/step - loss: 0.4691 - accuracy: 0.7717 - val_loss: 0.5101 - val_accuracy: 0.7500\n",
            "Epoch 47/100\n",
            "94/94 [==============================] - 18s 194ms/step - loss: 0.4659 - accuracy: 0.7723 - val_loss: 0.4896 - val_accuracy: 0.7620\n",
            "Epoch 48/100\n",
            "94/94 [==============================] - 19s 199ms/step - loss: 0.4596 - accuracy: 0.7667 - val_loss: 0.5098 - val_accuracy: 0.7560\n",
            "Epoch 49/100\n",
            "94/94 [==============================] - 18s 196ms/step - loss: 0.4730 - accuracy: 0.7747 - val_loss: 0.4961 - val_accuracy: 0.7610\n",
            "Epoch 50/100\n",
            "94/94 [==============================] - 19s 197ms/step - loss: 0.4447 - accuracy: 0.7870 - val_loss: 0.5024 - val_accuracy: 0.7570\n",
            "Epoch 51/100\n",
            "94/94 [==============================] - 19s 200ms/step - loss: 0.4367 - accuracy: 0.7950 - val_loss: 0.4931 - val_accuracy: 0.7820\n",
            "Epoch 52/100\n",
            "94/94 [==============================] - 19s 197ms/step - loss: 0.4572 - accuracy: 0.7827 - val_loss: 0.5009 - val_accuracy: 0.7660\n",
            "Epoch 53/100\n",
            "94/94 [==============================] - 19s 206ms/step - loss: 0.4386 - accuracy: 0.7910 - val_loss: 0.4669 - val_accuracy: 0.7880\n",
            "Epoch 54/100\n",
            "94/94 [==============================] - 19s 203ms/step - loss: 0.4523 - accuracy: 0.7750 - val_loss: 0.4894 - val_accuracy: 0.7750\n",
            "Epoch 55/100\n",
            "94/94 [==============================] - 19s 206ms/step - loss: 0.4335 - accuracy: 0.7900 - val_loss: 0.4944 - val_accuracy: 0.7640\n",
            "Epoch 56/100\n",
            "94/94 [==============================] - 19s 205ms/step - loss: 0.4315 - accuracy: 0.7910 - val_loss: 0.4861 - val_accuracy: 0.7670\n",
            "Epoch 57/100\n",
            "94/94 [==============================] - 19s 197ms/step - loss: 0.4257 - accuracy: 0.7950 - val_loss: 0.4774 - val_accuracy: 0.7760\n",
            "Epoch 58/100\n",
            "94/94 [==============================] - 19s 203ms/step - loss: 0.4415 - accuracy: 0.7920 - val_loss: 0.4666 - val_accuracy: 0.8000\n",
            "Epoch 59/100\n",
            "94/94 [==============================] - 19s 199ms/step - loss: 0.4360 - accuracy: 0.7963 - val_loss: 0.4683 - val_accuracy: 0.7850\n",
            "Epoch 60/100\n",
            "94/94 [==============================] - 18s 194ms/step - loss: 0.4173 - accuracy: 0.8050 - val_loss: 0.4740 - val_accuracy: 0.7770\n",
            "Epoch 61/100\n",
            "94/94 [==============================] - 19s 203ms/step - loss: 0.4440 - accuracy: 0.7827 - val_loss: 0.4834 - val_accuracy: 0.7680\n",
            "Epoch 62/100\n",
            "94/94 [==============================] - 19s 199ms/step - loss: 0.4332 - accuracy: 0.7983 - val_loss: 0.4669 - val_accuracy: 0.7720\n",
            "Epoch 63/100\n",
            "94/94 [==============================] - 19s 203ms/step - loss: 0.4052 - accuracy: 0.8090 - val_loss: 0.4648 - val_accuracy: 0.7870\n",
            "Epoch 64/100\n",
            "94/94 [==============================] - 19s 197ms/step - loss: 0.4090 - accuracy: 0.8077 - val_loss: 0.4598 - val_accuracy: 0.7960\n",
            "Epoch 65/100\n",
            "94/94 [==============================] - 19s 197ms/step - loss: 0.4132 - accuracy: 0.8100 - val_loss: 0.4642 - val_accuracy: 0.7960\n",
            "Epoch 66/100\n",
            "94/94 [==============================] - 19s 203ms/step - loss: 0.4157 - accuracy: 0.8003 - val_loss: 0.4584 - val_accuracy: 0.7960\n",
            "Epoch 67/100\n",
            "94/94 [==============================] - 19s 197ms/step - loss: 0.3975 - accuracy: 0.8170 - val_loss: 0.4359 - val_accuracy: 0.8010\n",
            "Epoch 68/100\n",
            "94/94 [==============================] - 19s 198ms/step - loss: 0.4094 - accuracy: 0.8093 - val_loss: 0.4568 - val_accuracy: 0.7940\n",
            "Epoch 69/100\n",
            "94/94 [==============================] - 19s 197ms/step - loss: 0.3989 - accuracy: 0.8207 - val_loss: 0.4341 - val_accuracy: 0.8020\n",
            "Epoch 70/100\n",
            "94/94 [==============================] - 19s 198ms/step - loss: 0.3997 - accuracy: 0.8083 - val_loss: 0.4397 - val_accuracy: 0.8100\n",
            "Epoch 71/100\n",
            "94/94 [==============================] - 20s 210ms/step - loss: 0.3915 - accuracy: 0.8133 - val_loss: 0.4378 - val_accuracy: 0.7940\n",
            "Epoch 72/100\n",
            "94/94 [==============================] - 19s 207ms/step - loss: 0.3921 - accuracy: 0.8247 - val_loss: 0.4365 - val_accuracy: 0.8030\n",
            "Epoch 73/100\n",
            "94/94 [==============================] - 20s 211ms/step - loss: 0.4000 - accuracy: 0.8173 - val_loss: 0.4458 - val_accuracy: 0.7940\n",
            "Epoch 74/100\n",
            "94/94 [==============================] - 19s 198ms/step - loss: 0.3805 - accuracy: 0.8190 - val_loss: 0.4287 - val_accuracy: 0.8050\n",
            "Epoch 75/100\n",
            "94/94 [==============================] - 19s 197ms/step - loss: 0.3704 - accuracy: 0.8260 - val_loss: 0.4430 - val_accuracy: 0.8090\n",
            "Epoch 76/100\n",
            "94/94 [==============================] - 19s 207ms/step - loss: 0.3688 - accuracy: 0.8327 - val_loss: 0.4159 - val_accuracy: 0.8170\n",
            "Epoch 77/100\n",
            "94/94 [==============================] - 19s 198ms/step - loss: 0.3888 - accuracy: 0.8187 - val_loss: 0.4569 - val_accuracy: 0.7880\n",
            "Epoch 78/100\n",
            "94/94 [==============================] - 19s 196ms/step - loss: 0.3828 - accuracy: 0.8240 - val_loss: 0.4237 - val_accuracy: 0.8190\n",
            "Epoch 79/100\n",
            "94/94 [==============================] - 18s 194ms/step - loss: 0.3734 - accuracy: 0.8233 - val_loss: 0.4235 - val_accuracy: 0.8110\n",
            "Epoch 80/100\n",
            "94/94 [==============================] - 18s 193ms/step - loss: 0.3831 - accuracy: 0.8183 - val_loss: 0.4064 - val_accuracy: 0.8220\n",
            "Epoch 81/100\n",
            "94/94 [==============================] - 19s 203ms/step - loss: 0.3838 - accuracy: 0.8243 - val_loss: 0.4460 - val_accuracy: 0.7800\n",
            "Epoch 82/100\n",
            "94/94 [==============================] - 19s 197ms/step - loss: 0.3738 - accuracy: 0.8273 - val_loss: 0.4204 - val_accuracy: 0.8180\n",
            "Epoch 83/100\n",
            "94/94 [==============================] - 18s 196ms/step - loss: 0.3771 - accuracy: 0.8277 - val_loss: 0.4233 - val_accuracy: 0.8120\n",
            "Epoch 84/100\n",
            "94/94 [==============================] - 19s 198ms/step - loss: 0.3546 - accuracy: 0.8433 - val_loss: 0.4477 - val_accuracy: 0.8000\n",
            "Epoch 85/100\n",
            "94/94 [==============================] - 19s 199ms/step - loss: 0.3564 - accuracy: 0.8323 - val_loss: 0.4297 - val_accuracy: 0.8150\n",
            "Epoch 86/100\n",
            "94/94 [==============================] - 19s 206ms/step - loss: 0.3568 - accuracy: 0.8353 - val_loss: 0.4131 - val_accuracy: 0.8070\n",
            "Epoch 87/100\n",
            "94/94 [==============================] - 18s 196ms/step - loss: 0.3493 - accuracy: 0.8473 - val_loss: 0.4142 - val_accuracy: 0.8070\n",
            "Epoch 88/100\n",
            "94/94 [==============================] - 19s 197ms/step - loss: 0.3604 - accuracy: 0.8380 - val_loss: 0.4301 - val_accuracy: 0.8130\n",
            "Epoch 89/100\n",
            "94/94 [==============================] - 18s 195ms/step - loss: 0.3422 - accuracy: 0.8493 - val_loss: 0.4047 - val_accuracy: 0.8220\n",
            "Epoch 90/100\n",
            "94/94 [==============================] - 18s 196ms/step - loss: 0.3459 - accuracy: 0.8453 - val_loss: 0.4308 - val_accuracy: 0.8120\n",
            "Epoch 91/100\n",
            "94/94 [==============================] - 19s 204ms/step - loss: 0.3230 - accuracy: 0.8610 - val_loss: 0.4242 - val_accuracy: 0.8130\n",
            "Epoch 92/100\n",
            "94/94 [==============================] - 19s 198ms/step - loss: 0.3499 - accuracy: 0.8420 - val_loss: 0.3967 - val_accuracy: 0.8270\n",
            "Epoch 93/100\n",
            "94/94 [==============================] - 19s 201ms/step - loss: 0.3319 - accuracy: 0.8540 - val_loss: 0.3971 - val_accuracy: 0.8380\n",
            "Epoch 94/100\n",
            "94/94 [==============================] - 19s 200ms/step - loss: 0.3436 - accuracy: 0.8507 - val_loss: 0.4285 - val_accuracy: 0.8090\n",
            "Epoch 95/100\n",
            "94/94 [==============================] - 19s 197ms/step - loss: 0.3539 - accuracy: 0.8387 - val_loss: 0.4180 - val_accuracy: 0.7990\n",
            "Epoch 96/100\n",
            "94/94 [==============================] - 19s 203ms/step - loss: 0.3498 - accuracy: 0.8473 - val_loss: 0.4146 - val_accuracy: 0.8100\n",
            "Epoch 97/100\n",
            "94/94 [==============================] - 18s 196ms/step - loss: 0.3240 - accuracy: 0.8533 - val_loss: 0.4214 - val_accuracy: 0.7990\n",
            "Epoch 98/100\n",
            "94/94 [==============================] - 19s 199ms/step - loss: 0.3210 - accuracy: 0.8513 - val_loss: 0.4055 - val_accuracy: 0.8140\n",
            "Epoch 99/100\n",
            "94/94 [==============================] - 18s 196ms/step - loss: 0.3074 - accuracy: 0.8593 - val_loss: 0.4461 - val_accuracy: 0.8020\n",
            "Epoch 100/100\n",
            "94/94 [==============================] - 18s 196ms/step - loss: 0.3367 - accuracy: 0.8473 - val_loss: 0.4093 - val_accuracy: 0.8140\n"
          ]
        }
      ]
    },
    {
      "cell_type": "code",
      "metadata": {
        "id": "1Fca-9VQE6W7"
      },
      "source": [
        "# history = model.fit(x=train_imgs_scaled, y=train_labels_enc,\n",
        "#                     validation_data=(validation_imgs_scaled, validation_labels_enc),\n",
        "#                     batch_size=batch_size,\n",
        "#                     epochs=epochs,\n",
        "#                     verbose=1)"
      ],
      "execution_count": 20,
      "outputs": []
    },
    {
      "cell_type": "code",
      "metadata": {
        "id": "sFC4VgL-E6W8",
        "colab": {
          "base_uri": "https://localhost:8080/",
          "height": 308
        },
        "outputId": "1483a93e-49f8-4130-aa7a-d318f9918784"
      },
      "source": [
        "f, (ax1, ax2) = plt.subplots(1, 2, figsize=(12, 4))\n",
        "t = f.suptitle('Basic CNN Performance', fontsize=12)\n",
        "f.subplots_adjust(top=0.85, wspace=0.3)\n",
        "\n",
        "epoch_list = list(range(1,101))\n",
        "ax1.plot(epoch_list, history.history['accuracy'], label='Train Accuracy')\n",
        "ax1.plot(epoch_list, history.history['val_accuracy'], label='Validation accuracy')\n",
        "ax1.set_xticks(np.arange(0, 101, 5))\n",
        "ax1.set_ylabel('Accuracy Value')\n",
        "ax1.set_xlabel('Epoch')\n",
        "ax1.set_title('Accuracy')\n",
        "l1 = ax1.legend(loc=\"best\")\n",
        "\n",
        "ax2.plot(epoch_list, history.history['loss'], label='Train Loss')\n",
        "ax2.plot(epoch_list, history.history['val_loss'], label='Validation Loss')\n",
        "ax2.set_xticks(np.arange(0, 101, 5))\n",
        "ax2.set_ylabel('Loss Value')\n",
        "ax2.set_xlabel('Epoch')\n",
        "ax2.set_title('Loss')\n",
        "l2 = ax2.legend(loc=\"best\")"
      ],
      "execution_count": 21,
      "outputs": [
        {
          "output_type": "display_data",
          "data": {
            "image/png": "[encoded data removed]",
            "text/plain": [
              "<Figure size 864x288 with 2 Axes>"
            ]
          },
          "metadata": {
            "needs_background": "light"
          }
        }
      ]
    },
    {
      "cell_type": "code",
      "metadata": {
        "id": "e3TpE8iOE6W-"
      },
      "source": [
        "model.save('3-aug-cnn.h5')"
      ],
      "execution_count": 22,
      "outputs": []
    },
    {
      "cell_type": "code",
      "metadata": {
        "id": "LWak05_OFYCn"
      },
      "source": [
        "# from google.colab import drive\n",
        "# drive.mount('/content/drive')"
      ],
      "execution_count": 23,
      "outputs": []
    },
    {
      "cell_type": "code",
      "metadata": {
        "id": "KHvABJIME6W_"
      },
      "source": [
        ""
      ],
      "execution_count": 23,
      "outputs": []
    },
    {
      "cell_type": "code",
      "metadata": {
        "id": "3-NzZSP7E6XC"
      },
      "source": [
        ""
      ],
      "execution_count": 23,
      "outputs": []
    },
    {
      "cell_type": "code",
      "metadata": {
        "id": "b4CfuG2ZE6XC"
      },
      "source": [
        ""
      ],
      "execution_count": 23,
      "outputs": []
    }
  ]
}